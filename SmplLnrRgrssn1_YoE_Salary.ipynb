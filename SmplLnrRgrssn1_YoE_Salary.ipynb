{
  "nbformat": 4,
  "nbformat_minor": 0,
  "metadata": {
    "colab": {
      "provenance": [],
      "authorship_tag": "ABX9TyMS1dio1n0/uREDxyXHkASl",
      "include_colab_link": true
    },
    "kernelspec": {
      "name": "python3",
      "display_name": "Python 3"
    },
    "language_info": {
      "name": "python"
    }
  },
  "cells": [
    {
      "cell_type": "markdown",
      "metadata": {
        "id": "view-in-github",
        "colab_type": "text"
      },
      "source": [
        "<a href=\"https://colab.research.google.com/github/deenaseban/machine-learning/blob/main/SmplLnrRgrssn1_YoE_Salary.ipynb\" target=\"_parent\"><img src=\"https://colab.research.google.com/assets/colab-badge.svg\" alt=\"Open In Colab\"/></a>"
      ]
    },
    {
      "cell_type": "code",
      "execution_count": null,
      "metadata": {
        "id": "CroiYdJahw4_"
      },
      "outputs": [],
      "source": [
        "import numpy as np\n",
        "import pandas as pd\n",
        "import matplotlib.pyplot as plt\n",
        "df=pd.read_csv('/content/Salary_Data.csv')\n",
        "df"
      ]
    },
    {
      "cell_type": "code",
      "source": [
        "df.head()"
      ],
      "metadata": {
        "id": "rKHwB0TGiaNp"
      },
      "execution_count": null,
      "outputs": []
    },
    {
      "cell_type": "code",
      "source": [
        "df.tail()"
      ],
      "metadata": {
        "id": "BE-Le9vHifte"
      },
      "execution_count": null,
      "outputs": []
    },
    {
      "cell_type": "code",
      "source": [
        "df.shape"
      ],
      "metadata": {
        "id": "Nh29aXQmifqC"
      },
      "execution_count": null,
      "outputs": []
    },
    {
      "cell_type": "code",
      "source": [
        "df.dtypes"
      ],
      "metadata": {
        "id": "xRvfDBssifng"
      },
      "execution_count": null,
      "outputs": []
    },
    {
      "cell_type": "code",
      "source": [
        "df.isna().sum()"
      ],
      "metadata": {
        "id": "R72c1wd8ifcc"
      },
      "execution_count": null,
      "outputs": []
    },
    {
      "cell_type": "code",
      "source": [
        "exp=df['YearsExperience'].tolist()\n",
        "sal=df['Salary'].tolist()\n",
        "plt.scatter(exp,sal,marker='*',color='g')\n",
        "plt.xticks(exp)\n",
        "plt.yticks(sal)\n",
        "plt.xlabel('Years of Experience')\n",
        "plt.ylabel('Salary')\n",
        "plt.title('Salary Graph')\n"
      ],
      "metadata": {
        "id": "a07Hr0vdjI2t"
      },
      "execution_count": null,
      "outputs": []
    },
    {
      "cell_type": "code",
      "source": [
        "x=df.iloc[:,:-1]    # If we are doing regression model .values is not necessary\n",
        "y=df.iloc[:,-1]"
      ],
      "metadata": {
        "id": "Yh8Orl5BjImC"
      },
      "execution_count": null,
      "outputs": []
    },
    {
      "cell_type": "code",
      "source": [
        "# Training and Testing Data\n",
        "from sklearn.model_selection import train_test_split\n",
        "x_train,x_test,y_train,y_test=train_test_split(x,y,test_size=0.30,random_state=42)"
      ],
      "metadata": {
        "id": "HCFpX77Zl7tG"
      },
      "execution_count": null,
      "outputs": []
    },
    {
      "cell_type": "code",
      "source": [
        "# We will not perform normalization in regression"
      ],
      "metadata": {
        "id": "DEEzXbgZl7M1"
      },
      "execution_count": null,
      "outputs": []
    },
    {
      "cell_type": "code",
      "source": [
        "# Model Creation\n",
        "from sklearn.linear_model import LinearRegression\n",
        "model=LinearRegression()\n",
        "model.fit(x_train,y_train)\n",
        "y_pred=model.predict(x_test)\n",
        "y_pred    # The predicted value"
      ],
      "metadata": {
        "id": "_MfK7ep8m1Vp"
      },
      "execution_count": null,
      "outputs": []
    },
    {
      "cell_type": "code",
      "source": [
        "y_test   # The actual value\n",
        "         # Predicted value will have some difference from actual value"
      ],
      "metadata": {
        "id": "Q1t5dSLNl63n"
      },
      "execution_count": null,
      "outputs": []
    },
    {
      "cell_type": "code",
      "source": [
        "# Regression line plotting\n",
        "plt.scatter(x_train,y_train,color='r')\n",
        "plt.plot(x_test,y_pred,color='k')   # To plot a regrssion line"
      ],
      "metadata": {
        "id": "krS-45yBpkvc"
      },
      "execution_count": null,
      "outputs": []
    },
    {
      "cell_type": "code",
      "source": [
        "print(model.predict([[8.5]]))"
      ],
      "metadata": {
        "id": "rUPItnUirFOT"
      },
      "execution_count": null,
      "outputs": []
    },
    {
      "cell_type": "code",
      "source": [
        "# Regression works based on equation of line i.e y=mx+c . We have to find m and c where m = slope and c = y_intercept or constant\n",
        "print('Slope is',model.coef_)    # slope is also called coefficent (coef)"
      ],
      "metadata": {
        "id": "0_yExHncrGu6"
      },
      "execution_count": null,
      "outputs": []
    },
    {
      "cell_type": "code",
      "source": [
        "# y-intercept or constant (c)\n",
        "print('Constant is',model.intercept_)"
      ],
      "metadata": {
        "id": "JKMfqAjVtWlx"
      },
      "execution_count": null,
      "outputs": []
    },
    {
      "cell_type": "code",
      "source": [
        "print(model.predict([[4.2]]))    # y= mx+c => y= (9339.0817*4.2)+25918.43833 = 65142.58157"
      ],
      "metadata": {
        "id": "-scZ03AVt3mw"
      },
      "execution_count": null,
      "outputs": []
    },
    {
      "cell_type": "code",
      "source": [
        "df1=pd.DataFrame({'Actual Value':y_test,'Predicted Value':y_pred,'Difference':y_test-y_pred})   # To find difference\n",
        "df1\n"
      ],
      "metadata": {
        "id": "X42UsjHkuj8Q"
      },
      "execution_count": null,
      "outputs": []
    },
    {
      "cell_type": "code",
      "source": [
        "# Performance Evaluation\n",
        "# In regression model, we have several evalution methods:\n",
        "#  1. MAE\n",
        "#  2. MSE\n",
        "#  3. RMSE\n",
        "#  4. R_2 Score\n",
        "#  5. MAPE\n",
        "\n",
        "\n",
        "# MAE : Mean Absolute Error\n",
        "#   Y  - Actual Value\n",
        "#   Y^ - Predicted Value\n",
        "#   Error : Y-Y^\n",
        "#   Absolute Error : |Y-Y^|\n",
        "#   Mean Absolue Error : 1/N Summation(|Y-Y^|)\n",
        "\n",
        "# MAPE : Mean Absolute Percentage Error\n",
        "#  For calculation of percentage of MAE.\n",
        "#  If MAPE is low, Model is good\n",
        "\n",
        "# MSE : Mean Squared Error\n",
        "#  1/N Summation ((Y-Y^)^2)\n",
        "\n",
        "# RMSE : Root Mean Squared Error\n",
        "#   Sqrt of MSE i.e, (1/N Summation((Y-Y^)^2))\n",
        "\n",
        "# R_2 Score\n",
        "#   For finding percentage\n",
        "#   If R_2 Score is high, Model is good"
      ],
      "metadata": {
        "id": "ocElOuzcxFXj"
      },
      "execution_count": null,
      "outputs": []
    },
    {
      "cell_type": "code",
      "source": [
        "# MAE\n",
        "from sklearn.metrics import mean_absolute_error\n",
        "print('Error is',mean_absolute_error(y_test,y_pred))"
      ],
      "metadata": {
        "id": "kq9km0KBxF-D",
        "colab": {
          "base_uri": "https://localhost:8080/"
        },
        "outputId": "8066e283-2eb1-48e0-99aa-92247c11c0a4"
      },
      "execution_count": null,
      "outputs": [
        {
          "output_type": "stream",
          "name": "stdout",
          "text": [
            "Error is 5161.328710400183\n"
          ]
        }
      ]
    },
    {
      "cell_type": "code",
      "source": [
        "# MAPE\n",
        "from sklearn.metrics import mean_absolute_percentage_error           # MAPE should be low  ( upto 0.3 is good i.e, ~ 70%)\n",
        "print('Percentage error is',mean_absolute_percentage_error(y_test,y_pred))   # 0.06 means ~ 94% accuracy"
      ],
      "metadata": {
        "colab": {
          "base_uri": "https://localhost:8080/"
        },
        "id": "5BzqDnvCSrMc",
        "outputId": "beb2ad0d-7646-4139-ce99-db44dc653aba"
      },
      "execution_count": null,
      "outputs": [
        {
          "output_type": "stream",
          "name": "stdout",
          "text": [
            "Percentage error is 0.06647907533756252\n"
          ]
        }
      ]
    },
    {
      "cell_type": "code",
      "source": [
        "# MSE\n",
        "from sklearn.metrics import mean_squared_error\n",
        "print('Squared error is',mean_squared_error(y_test,y_pred))"
      ],
      "metadata": {
        "colab": {
          "base_uri": "https://localhost:8080/"
        },
        "id": "lZn71iD4SrFD",
        "outputId": "213a2541-cba0-47b7-ac8f-ecedf17b1d75"
      },
      "execution_count": null,
      "outputs": [
        {
          "output_type": "stream",
          "name": "stdout",
          "text": [
            "Squared error is 37784662.46621314\n"
          ]
        }
      ]
    },
    {
      "cell_type": "code",
      "source": [
        "# RMSE\n",
        "from math import sqrt\n",
        "from sklearn.metrics import mean_squared_error         # No function is to import for RMSE. So, we find the sqrt of MSE\n",
        "print('Root Mean Squared error is',sqrt(mean_squared_error(y_test,y_pred)))"
      ],
      "metadata": {
        "colab": {
          "base_uri": "https://localhost:8080/"
        },
        "id": "51JijonvU-wV",
        "outputId": "d33d0791-1dcd-4fe1-fce6-cbf7ba82cd67"
      },
      "execution_count": null,
      "outputs": [
        {
          "output_type": "stream",
          "name": "stdout",
          "text": [
            "Squared error is 6146.92300799458\n"
          ]
        }
      ]
    },
    {
      "cell_type": "code",
      "source": [
        "# R_2 Score  (Co-efficient of Determination)\n",
        "from sklearn.metrics import r2_score\n",
        "print('R_2 Score is',r2_score(y_test,y_pred))\n"
      ],
      "metadata": {
        "colab": {
          "base_uri": "https://localhost:8080/"
        },
        "id": "58MS3de3WhEg",
        "outputId": "e5883869-d739-4824-a1fe-265ae97759de"
      },
      "execution_count": null,
      "outputs": [
        {
          "output_type": "stream",
          "name": "stdout",
          "text": [
            "R_2 Score is 0.9414466227178214\n"
          ]
        }
      ]
    }
  ]
}